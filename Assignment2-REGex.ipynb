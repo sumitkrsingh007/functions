{
 "cells": [
  {
   "cell_type": "markdown",
   "metadata": {},
   "source": [
    "# TASK 2\n",
    "\n"
   ]
  },
  {
   "cell_type": "markdown",
   "metadata": {},
   "source": [
    "## Registration ID: SIRSS2271\n"
   ]
  },
  {
   "cell_type": "markdown",
   "metadata": {},
   "source": [
    "## Name: Sumit Kumar"
   ]
  },
  {
   "cell_type": "code",
   "execution_count": 1,
   "metadata": {},
   "outputs": [
    {
     "name": "stdout",
     "output_type": "stream",
     "text": [
      "Hello\n"
     ]
    }
   ],
   "source": [
    "'''Q1. Write a lambda expression to extract first word of a string.'''\n",
    "\n",
    "f1 = lambda str: str.split()[0]\n",
    "str = (\"Hello I am leraning Python Lambda.\")\n",
    "print (f1(str))"
   ]
  },
  {
   "cell_type": "code",
   "execution_count": 2,
   "metadata": {},
   "outputs": [
    {
     "name": "stdout",
     "output_type": "stream",
     "text": [
      "Neeraj\n"
     ]
    }
   ],
   "source": [
    "'''Q2. Write a function to extract first word of s string (with many words separated by space).'''\n",
    "\n",
    "def extract_first (str):\n",
    "    return str.split ()[0]\n",
    "str = (\"Neeraj Chopra wins India's 1st gold at Tokyo 2020\")\n",
    "print (extract_first(str))"
   ]
  },
  {
   "cell_type": "code",
   "execution_count": 3,
   "metadata": {},
   "outputs": [
    {
     "name": "stdout",
     "output_type": "stream",
     "text": [
      "['Ravi', 'Mirabai', 'PV', 'Lovlina', 'Bajarang']\n"
     ]
    }
   ],
   "source": [
    "'''Q3. Extract the first word from every string from a list of strings by using map function.'''\n",
    "\n",
    "lst = ['Ravi Kumar Dahiya', 'Mirabai Chanu', 'PV Sindhu', 'Lovlina Borgohain', 'Bajarang Punia']\n",
    "f1 = list(map(lambda s: s.split()[0], lst))\n",
    "print(f1)"
   ]
  },
  {
   "cell_type": "code",
   "execution_count": 4,
   "metadata": {},
   "outputs": [
    {
     "name": "stdout",
     "output_type": "stream",
     "text": [
      "Enter the number: 144\n",
      "[2, 3]\n"
     ]
    }
   ],
   "source": [
    "'''Q4. Write a function to return a list of prime factors of a given number.'''\n",
    "\n",
    "def prime_factors(n):\n",
    "    lst = []\n",
    "    i = 2\n",
    "    while (i<=n):\n",
    "        if (n%i == 0):\n",
    "            lst.append(i)\n",
    "            n = n//i\n",
    "        else:\n",
    "            i+=1\n",
    "    return set (lst)\n",
    "n = int (input (\"Enter the number: \"))\n",
    "print (list(prime_factors(n)))"
   ]
  },
  {
   "cell_type": "code",
   "execution_count": 5,
   "metadata": {},
   "outputs": [
    {
     "name": "stdout",
     "output_type": "stream",
     "text": [
      "Enter 4 numbers: 34 56 69 78\n",
      "69\n"
     ]
    }
   ],
   "source": [
    "'''Q5. Write a function that finds 2nd largest among 4 numbers (Repetitions are allowed, without sorting).'''\n",
    "\n",
    "n = input (\"Enter 4 numbers: \")\n",
    "lst = n.split()\n",
    "lst = set(lst)\n",
    "def sec_large():\n",
    "    lst.remove(max(lst))\n",
    "    print(max(lst))\n",
    "sec_large()"
   ]
  },
  {
   "cell_type": "code",
   "execution_count": null,
   "metadata": {},
   "outputs": [],
   "source": []
  }
 ],
 "metadata": {
  "kernelspec": {
   "display_name": "Python 3",
   "language": "python",
   "name": "python3"
  },
  "language_info": {
   "codemirror_mode": {
    "name": "ipython",
    "version": 3
   },
   "file_extension": ".py",
   "mimetype": "text/x-python",
   "name": "python",
   "nbconvert_exporter": "python",
   "pygments_lexer": "ipython3",
   "version": "3.8.8"
  }
 },
 "nbformat": 4,
 "nbformat_minor": 4
}
